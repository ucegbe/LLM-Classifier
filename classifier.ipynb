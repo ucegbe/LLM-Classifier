{
 "cells": [
  {
   "cell_type": "code",
   "execution_count": null,
   "id": "a8ee744a-b3b0-4adb-ba8c-b97fb7e83a10",
   "metadata": {},
   "outputs": [],
   "source": [
    "!pip install --force-reinstall amazon-textract-textractor==1.7.1\n",
    "!pip install pillow\n",
    "!pip install pymupdf"
   ]
  },
  {
   "cell_type": "markdown",
   "id": "889cfa07-c53f-4f79-8fdd-3f9a2f121d19",
   "metadata": {
    "tags": []
   },
   "source": [
    "<img src=\"images/classifier.png\" width=\"800\" height=700/>"
   ]
  },
  {
   "cell_type": "code",
   "execution_count": 2,
   "id": "956fcdfa-ecad-4e28-821b-c200a2b83770",
   "metadata": {
    "tags": []
   },
   "outputs": [],
   "source": [
    "import os\n",
    "from PIL import Image\n",
    "import pandas as pd\n",
    "import re\n",
    "import base64\n",
    "import json\n",
    "from textractor import Textractor\n",
    "from textractor.visualizers.entitylist import EntityList\n",
    "from textractor.data.constants import TextractFeatures\n",
    "import boto3\n",
    "# Create the bedrock runtime to invoke LLM\n",
    "from botocore.config import Config\n",
    "config = Config(\n",
    "    read_timeout=600, #this timeout determines the maximum time (secs) allowed for the client to wait for data to be received from the server. \n",
    "    retries = dict(\n",
    "        max_attempts = 5 ## maximum number of retry attempts that will be made on a single request\n",
    "    )\n",
    ")\n",
    "region=\"us-east-1\"\n",
    "bedrock_runtime = boto3.client(service_name='bedrock-runtime',region_name=region,config=config)"
   ]
  },
  {
   "cell_type": "markdown",
   "id": "e4baaed7-a053-4ebd-b101-9f88b0888d9e",
   "metadata": {},
   "source": [
    "Utility Functions"
   ]
  },
  {
   "cell_type": "code",
   "execution_count": 3,
   "id": "97d0c068-acc0-45fc-9321-e79dbb7037f6",
   "metadata": {
    "tags": []
   },
   "outputs": [],
   "source": [
    "def _invoke_bedrock_with_retries(system_message, prompt, model_id,image_path=None):\n",
    "    max_retries = 5\n",
    "    backoff_base = 2\n",
    "    max_backoff = 3  # Maximum backoff time in seconds\n",
    "    retries = 0\n",
    "    while True:\n",
    "        try:\n",
    "            response, input_token, output_token = bedrock_claude_(system_message, prompt,model_id,image_path)\n",
    "            return response, input_token, output_token\n",
    "        except ClientError as e:\n",
    "            if e.response['Error']['Code'] == 'ThrottlingException':\n",
    "                if retries < max_retries:\n",
    "                    # Throttling, exponential backoff\n",
    "                    sleep_time = min(max_backoff, backoff_base ** retries + random.uniform(0, 1))\n",
    "                    time.sleep(sleep_time)\n",
    "                    retries += 1\n",
    "                else:\n",
    "                    raise e\n",
    "            else:\n",
    "                # Some other API error, rethrow\n",
    "                raise"
   ]
  },
  {
   "cell_type": "markdown",
   "id": "6012cbbb-e410-4fe7-bfab-c8e75f8e90d1",
   "metadata": {},
   "source": [
    "Utility functions to call Bedrock Claude model"
   ]
  },
  {
   "cell_type": "code",
   "execution_count": 4,
   "id": "182cf78d-3a7c-4be8-8124-4a495db5c45f",
   "metadata": {
    "tags": []
   },
   "outputs": [],
   "source": [
    "def bedrock_streemer(response):\n",
    "    stream = response.get('body')\n",
    "    answer = \"\"\n",
    "    i = 1\n",
    "    if stream:\n",
    "        for event in stream:\n",
    "            chunk = event.get('chunk')\n",
    "            if  chunk:\n",
    "                chunk_obj = json.loads(chunk.get('bytes').decode())\n",
    "                if \"delta\" in chunk_obj:                    \n",
    "                    delta = chunk_obj['delta']\n",
    "                    if \"text\" in delta:\n",
    "                        text=delta['text'] \n",
    "                        print(text, end=\"\")\n",
    "                        answer+=str(text)       \n",
    "                        i+=1\n",
    "                if \"amazon-bedrock-invocationMetrics\" in chunk_obj:\n",
    "                    input_tokens= chunk_obj['amazon-bedrock-invocationMetrics']['inputTokenCount']\n",
    "                    output_tokens=chunk_obj['amazon-bedrock-invocationMetrics']['outputTokenCount']\n",
    "                    print(f\"\\nInput Tokens: {input_tokens}\\nOutput Tokens: {output_tokens}\")\n",
    "    return answer,input_tokens, output_tokens\n",
    "\n",
    "def bedrock_claude_(system_message, prompt,model_id,image_path=None):\n",
    "    content=[{\n",
    "        \"type\": \"text\",\n",
    "        \"text\": prompt\n",
    "            }]\n",
    "    if image_path:       \n",
    "        if not isinstance(image_path, list):\n",
    "            image_path=[image_path]      \n",
    "        for img in image_path:\n",
    "            s3 = boto3.client('s3')\n",
    "            match = re.match(\"s3://(.+?)/(.+)\", img)\n",
    "            image_name=os.path.basename(img)\n",
    "            _,ext=os.path.splitext(image_name)\n",
    "            if \"jpg\" in ext: ext=\".jpeg\"                        \n",
    "            if match:\n",
    "                bucket_name = match.group(1)\n",
    "                key = match.group(2)    \n",
    "                obj = s3.get_object(Bucket=bucket_name, Key=key)\n",
    "                base_64_encoded_data = base64.b64encode(obj['Body'].read())\n",
    "                base64_string = base_64_encoded_data.decode('utf-8')\n",
    "            else:\n",
    "                with open(img, \"rb\") as image_file:\n",
    "                    binary_data = image_file.read()\n",
    "                base_64_encoded_data = base64.b64encode(binary_data)\n",
    "                base64_string = base_64_encoded_data.decode('utf-8')\n",
    "            content.extend([{\"type\":\"text\",\"text\":image_name},{\n",
    "              \"type\": \"image\",\n",
    "              \"source\": {\n",
    "                \"type\": \"base64\",\n",
    "                \"media_type\": f\"image/{ext.lower().replace('.','')}\",\n",
    "                \"data\": base64_string\n",
    "              }\n",
    "            }])\n",
    "\n",
    "    prompt = {\n",
    "        \"anthropic_version\": \"bedrock-2023-05-31\",\n",
    "        \"max_tokens\": 2500,\n",
    "        \"temperature\": 0.5,\n",
    "        \"system\":system_message,\n",
    "        \"messages\": [    \n",
    "            {\n",
    "                \"role\": \"user\",\n",
    "                \"content\": content\n",
    "            }\n",
    "        ]\n",
    "    }\n",
    "    answer = \"\"\n",
    "    prompt = json.dumps(prompt)\n",
    "    response = bedrock_runtime.invoke_model_with_response_stream(body=prompt, modelId=model_id, accept=\"application/json\", contentType=\"application/json\")\n",
    "    answer,input_tokens,output_tokens=bedrock_streemer(response) \n",
    "    return answer, input_tokens, output_tokens"
   ]
  },
  {
   "cell_type": "markdown",
   "id": "d77df4ee-3704-4584-8f03-968aa795f45d",
   "metadata": {},
   "source": [
    "[Amazon Textract Linearization Library](https://aws-samples.github.io/amazon-textract-textractor/examples.html) to call Textract and parse the results properly"
   ]
  },
  {
   "cell_type": "code",
   "execution_count": 5,
   "id": "ba9cad2b-a6c0-45b3-bcec-fc0a623a6a41",
   "metadata": {
    "tags": []
   },
   "outputs": [],
   "source": [
    "from textractor.data.text_linearization_config import TextLinearizationConfig\n",
    "\n",
    "configs = TextLinearizationConfig(\n",
    "    hide_figure_layout=True,\n",
    "    hide_header_layout=False,\n",
    "    table_prefix=\"<table>\",\n",
    "    table_suffix=\"</table>\",\n",
    "    hide_footer_layout=True,\n",
    "    hide_page_num_layout=True,\n",
    ")"
   ]
  },
  {
   "cell_type": "code",
   "execution_count": 6,
   "id": "b37a8be6-7243-440b-bff3-3056f5af7e2a",
   "metadata": {
    "tags": []
   },
   "outputs": [],
   "source": [
    "use_claude_image=False #Use Claude 3 Image process as opposed to Textract\n",
    "\n",
    "doc_path=\"docs\" # local path to documents\n",
    "files=os.listdir(doc_path)\n",
    "# S3 location to store pdf if passing local pdf file to Textract api call\n",
    "textract_output_bucket=\"BUCKET NAME\"\n",
    "\n",
    "if not use_claude_image:\n",
    "    doc=\"\"\n",
    "    extractor = Textractor(region_name=\"us-east-1\")\n",
    "    # Classify each page in a PDF (True) or treat the entire PDF as a class (False)\n",
    "    label_per_page=True \n",
    "    for file in files:\n",
    "        if file.lower().endswith(('.png', '.jpg', '.jpeg')):        \n",
    "            document = extractor.analyze_document(\n",
    "                file_source=f\"{doc_path}/{file}\",\n",
    "                features=[TextractFeatures.LAYOUT,],#TextractFeatures.FORMS,TextractFeatures.TABLES],\n",
    "                save_image=False,       \n",
    "            )\n",
    "            doc+=f\"<{os.path.basename(file)}>\\n{document.get_text(config=configs)}\\n</{os.path.basename(file)}>\\n\"  \n",
    "        elif file.lower().endswith(('.pdf')): \n",
    "            document = extractor.start_document_analysis(\n",
    "                    file_source=f\"{doc_path}/{file}\",\n",
    "                    features=[TextractFeatures.LAYOUT,],#TextractFeatures.TABLES,TextractFeatures.FORMS],\n",
    "                    save_image=False,\n",
    "                    s3_upload_path = f\"s3://{textract_output_bucket}/textract/\" # Comment this line if you are passing pdf from s3\n",
    "                )\n",
    "            if label_per_page:\n",
    "                for page in range(len(document.pages)):\n",
    "                    doc+=f\"<{os.path.basename(file)}_Page{str(page+1)}>\\n{document.pages[page].get_text(config=configs)}\\n</{os.path.basename(file)}_Page{str(page+1)}>\\n\"\n",
    "            else:\n",
    "                doc+=f\"<{os.path.basename(file)}>\\n{document.get_text(config=configs)}\\n</{os.path.basename(file)}>\\n\"  \n"
   ]
  },
  {
   "cell_type": "code",
   "execution_count": 7,
   "id": "ba0b2b68-7977-405a-a4d3-92a55a4e86ed",
   "metadata": {
    "tags": []
   },
   "outputs": [],
   "source": [
    "# Create a manifest list of possible classes and their description\n",
    "possible_class={\"drivers license\":\"This is a US drivers license\",\n",
    "               \"W2\":\"This is a tax reporting form\",\n",
    "               \"Bank Statement\": \"This is personal bank document\",\n",
    "               \"PayStub\": \"This is an individual's pay info\"}"
   ]
  },
  {
   "cell_type": "code",
   "execution_count": 8,
   "id": "7e1506ae-d040-4415-99c4-1916d5cab376",
   "metadata": {
    "tags": []
   },
   "outputs": [],
   "source": [
    "image_list=[]\n",
    "# System Prompt\n",
    "with open(f\"prompt/system.txt\",\"r\") as f:\n",
    "    system_template=f.read()\n",
    "#Claude 3 image prompt\n",
    "if use_claude_image:\n",
    "    with open(f\"prompt/sorter_image.txt\",\"r\") as f:\n",
    "        prompt=f.read()\n",
    "    prompt=prompt.replace(\"{label}\",json.dumps(possible_class))\n",
    "    image_list=[f\"{doc_path}/{x}\" for x in files if x.lower().endswith(('.png', '.jpg', '.jpeg'))]\n",
    "else:\n",
    "# Textract with Claude 3 prompt\n",
    "    with open(f\"prompt/sorter.txt\",\"r\") as f:\n",
    "        prompt=f.read()\n",
    "    prompt=prompt.replace(\"{doc}\",doc).replace(\"{label}\",json.dumps(possible_class))"
   ]
  },
  {
   "cell_type": "code",
   "execution_count": 9,
   "id": "918e55f4-d23e-481a-8f4f-3bbb494b280f",
   "metadata": {
    "tags": []
   },
   "outputs": [
    {
     "name": "stdout",
     "output_type": "stream",
     "text": [
      "{\n",
      " \"1\":{\"document name\":\"johndoc4.pdf0.jpg\",\n",
      "      \"label\":\"Bank Statement\"},\n",
      " \"2\":{\"document name\":\"johndoc3.pdf_Page1\",\n",
      "      \"label\":\"Bank Statement\"},\n",
      " \"3\":{\"document name\":\"janedoc1.png\",\n",
      "      \"label\":\"PayStub\"},\n",
      " \"4\":{\"document name\":\"timothydoc1.PNG\",\n",
      "      \"label\":\"drivers license\"},\n",
      " \"5\":{\"document name\":\"timothydoc5.PNG\",\n",
      "      \"label\":\"drivers license\"},\n",
      " \"6\":{\"document name\":\"timothydoc3.PNG\",\n",
      "      \"label\":\"drivers license\"},\n",
      " \"7\":{\"document name\":\"janedoc3.jpg\",\n",
      "      \"label\":\"W2\"},\n",
      " \"8\":{\"document name\":\"john-doc1.PNG\",\n",
      "      \"label\":\"drivers license\"},\n",
      " \"9\":{\"document name\":\"johndoc2.pdf0.jpg\",\n",
      "      \"label\":\"Bank Statement\"},\n",
      " \"10\":{\"document name\":\"johndoc4.pdf_Page1\",\n",
      "       \"label\":\"Bank Statement\"},\n",
      " \"11\":{\"document name\":\"janedoc2.jpg\",\n",
      "       \"label\":\"W2\"},\n",
      " \"12\":{\"document name\":\"sarahdoc1.jpg\",\n",
      "       \"label\":\"W2\"},\n",
      " \"13\":{\"document name\":\"5937faca67a8e.jpg\",\n",
      "       \"label\":\"PayStub\"},\n",
      " \"14\":{\"document name\":\"jandedoc4.jpg\",\n",
      "       \"label\":\"W2\"},\n",
      " \"15\":{\"document name\":\"johndoc3.pdf0.jpg\",\n",
      "       \"label\":\"Bank Statement\"},\n",
      " \"16\":{\"document name\":\"johndoc2.pdf_Page1\",\n",
      "       \"label\":\"Bank Statement\"},\n",
      " \"17\":{\"document name\":\"johndoc2.pdf_Page2\",\n",
      "       \"label\":\"Bank Statement\"},\n",
      " \"18\":{\"document name\":\"johndoc2.pdf1.jpg\",\n",
      "       \"label\":\"Bank Statement\"}\n",
      "}\n",
      "Input Tokens: 12065\n",
      "Output Tokens: 473\n"
     ]
    }
   ],
   "source": [
    "modell=\"anthropic.claude-3-sonnet-20240229-v1:0\"\n",
    "response, iput_t, output_t=_invoke_bedrock_with_retries(system_template, prompt,modell,image_list)"
   ]
  },
  {
   "cell_type": "code",
   "execution_count": 126,
   "id": "fcee9aad-47a5-4a60-a226-4c8f92b2cb7c",
   "metadata": {
    "tags": []
   },
   "outputs": [
    {
     "data": {
      "text/plain": [
       "{'1': {'document name': 'johndoc4.pdf0.jpg', 'label': 'Bank Statement'},\n",
       " '2': {'document name': 'johndoc3.pdf', 'label': 'Bank Statement'},\n",
       " '3': {'document name': 'janedoc1.png', 'label': 'PayStub'},\n",
       " '4': {'document name': 'timothydoc1.PNG', 'label': 'drivers license'},\n",
       " '5': {'document name': 'timothydoc5.PNG', 'label': 'drivers license'},\n",
       " '6': {'document name': 'timothydoc3.PNG', 'label': 'drivers license'},\n",
       " '7': {'document name': 'janedoc3.jpg', 'label': 'W2'},\n",
       " '8': {'document name': 'john-doc1.PNG', 'label': 'drivers license'},\n",
       " '9': {'document name': 'johndoc2.pdf0.jpg', 'label': 'Bank Statement'},\n",
       " '10': {'document name': 'johndoc4.pdf', 'label': 'Bank Statement'},\n",
       " '11': {'document name': 'janedoc2.jpg', 'label': 'W2'},\n",
       " '12': {'document name': 'sarahdoc1.jpg', 'label': 'W2'},\n",
       " '13': {'document name': '5937faca67a8e.jpg', 'label': 'PayStub'},\n",
       " '14': {'document name': 'jandedoc4.jpg', 'label': 'W2'},\n",
       " '15': {'document name': 'johndoc3.pdf0.jpg', 'label': 'Bank Statement'},\n",
       " '16': {'document name': 'johndoc2.pdf', 'label': 'Bank Statement'},\n",
       " '17': {'document name': 'johndoc2.pdf1.jpg', 'label': 'Bank Statement'}}"
      ]
     },
     "execution_count": 126,
     "metadata": {},
     "output_type": "execute_result"
    }
   ],
   "source": [
    "json.loads(response)"
   ]
  }
 ],
 "metadata": {
  "availableInstances": [
   {
    "_defaultOrder": 0,
    "_isFastLaunch": true,
    "category": "General purpose",
    "gpuNum": 0,
    "hideHardwareSpecs": false,
    "memoryGiB": 4,
    "name": "ml.t3.medium",
    "vcpuNum": 2
   },
   {
    "_defaultOrder": 1,
    "_isFastLaunch": false,
    "category": "General purpose",
    "gpuNum": 0,
    "hideHardwareSpecs": false,
    "memoryGiB": 8,
    "name": "ml.t3.large",
    "vcpuNum": 2
   },
   {
    "_defaultOrder": 2,
    "_isFastLaunch": false,
    "category": "General purpose",
    "gpuNum": 0,
    "hideHardwareSpecs": false,
    "memoryGiB": 16,
    "name": "ml.t3.xlarge",
    "vcpuNum": 4
   },
   {
    "_defaultOrder": 3,
    "_isFastLaunch": false,
    "category": "General purpose",
    "gpuNum": 0,
    "hideHardwareSpecs": false,
    "memoryGiB": 32,
    "name": "ml.t3.2xlarge",
    "vcpuNum": 8
   },
   {
    "_defaultOrder": 4,
    "_isFastLaunch": true,
    "category": "General purpose",
    "gpuNum": 0,
    "hideHardwareSpecs": false,
    "memoryGiB": 8,
    "name": "ml.m5.large",
    "vcpuNum": 2
   },
   {
    "_defaultOrder": 5,
    "_isFastLaunch": false,
    "category": "General purpose",
    "gpuNum": 0,
    "hideHardwareSpecs": false,
    "memoryGiB": 16,
    "name": "ml.m5.xlarge",
    "vcpuNum": 4
   },
   {
    "_defaultOrder": 6,
    "_isFastLaunch": false,
    "category": "General purpose",
    "gpuNum": 0,
    "hideHardwareSpecs": false,
    "memoryGiB": 32,
    "name": "ml.m5.2xlarge",
    "vcpuNum": 8
   },
   {
    "_defaultOrder": 7,
    "_isFastLaunch": false,
    "category": "General purpose",
    "gpuNum": 0,
    "hideHardwareSpecs": false,
    "memoryGiB": 64,
    "name": "ml.m5.4xlarge",
    "vcpuNum": 16
   },
   {
    "_defaultOrder": 8,
    "_isFastLaunch": false,
    "category": "General purpose",
    "gpuNum": 0,
    "hideHardwareSpecs": false,
    "memoryGiB": 128,
    "name": "ml.m5.8xlarge",
    "vcpuNum": 32
   },
   {
    "_defaultOrder": 9,
    "_isFastLaunch": false,
    "category": "General purpose",
    "gpuNum": 0,
    "hideHardwareSpecs": false,
    "memoryGiB": 192,
    "name": "ml.m5.12xlarge",
    "vcpuNum": 48
   },
   {
    "_defaultOrder": 10,
    "_isFastLaunch": false,
    "category": "General purpose",
    "gpuNum": 0,
    "hideHardwareSpecs": false,
    "memoryGiB": 256,
    "name": "ml.m5.16xlarge",
    "vcpuNum": 64
   },
   {
    "_defaultOrder": 11,
    "_isFastLaunch": false,
    "category": "General purpose",
    "gpuNum": 0,
    "hideHardwareSpecs": false,
    "memoryGiB": 384,
    "name": "ml.m5.24xlarge",
    "vcpuNum": 96
   },
   {
    "_defaultOrder": 12,
    "_isFastLaunch": false,
    "category": "General purpose",
    "gpuNum": 0,
    "hideHardwareSpecs": false,
    "memoryGiB": 8,
    "name": "ml.m5d.large",
    "vcpuNum": 2
   },
   {
    "_defaultOrder": 13,
    "_isFastLaunch": false,
    "category": "General purpose",
    "gpuNum": 0,
    "hideHardwareSpecs": false,
    "memoryGiB": 16,
    "name": "ml.m5d.xlarge",
    "vcpuNum": 4
   },
   {
    "_defaultOrder": 14,
    "_isFastLaunch": false,
    "category": "General purpose",
    "gpuNum": 0,
    "hideHardwareSpecs": false,
    "memoryGiB": 32,
    "name": "ml.m5d.2xlarge",
    "vcpuNum": 8
   },
   {
    "_defaultOrder": 15,
    "_isFastLaunch": false,
    "category": "General purpose",
    "gpuNum": 0,
    "hideHardwareSpecs": false,
    "memoryGiB": 64,
    "name": "ml.m5d.4xlarge",
    "vcpuNum": 16
   },
   {
    "_defaultOrder": 16,
    "_isFastLaunch": false,
    "category": "General purpose",
    "gpuNum": 0,
    "hideHardwareSpecs": false,
    "memoryGiB": 128,
    "name": "ml.m5d.8xlarge",
    "vcpuNum": 32
   },
   {
    "_defaultOrder": 17,
    "_isFastLaunch": false,
    "category": "General purpose",
    "gpuNum": 0,
    "hideHardwareSpecs": false,
    "memoryGiB": 192,
    "name": "ml.m5d.12xlarge",
    "vcpuNum": 48
   },
   {
    "_defaultOrder": 18,
    "_isFastLaunch": false,
    "category": "General purpose",
    "gpuNum": 0,
    "hideHardwareSpecs": false,
    "memoryGiB": 256,
    "name": "ml.m5d.16xlarge",
    "vcpuNum": 64
   },
   {
    "_defaultOrder": 19,
    "_isFastLaunch": false,
    "category": "General purpose",
    "gpuNum": 0,
    "hideHardwareSpecs": false,
    "memoryGiB": 384,
    "name": "ml.m5d.24xlarge",
    "vcpuNum": 96
   },
   {
    "_defaultOrder": 20,
    "_isFastLaunch": false,
    "category": "General purpose",
    "gpuNum": 0,
    "hideHardwareSpecs": true,
    "memoryGiB": 0,
    "name": "ml.geospatial.interactive",
    "supportedImageNames": [
     "sagemaker-geospatial-v1-0"
    ],
    "vcpuNum": 0
   },
   {
    "_defaultOrder": 21,
    "_isFastLaunch": true,
    "category": "Compute optimized",
    "gpuNum": 0,
    "hideHardwareSpecs": false,
    "memoryGiB": 4,
    "name": "ml.c5.large",
    "vcpuNum": 2
   },
   {
    "_defaultOrder": 22,
    "_isFastLaunch": false,
    "category": "Compute optimized",
    "gpuNum": 0,
    "hideHardwareSpecs": false,
    "memoryGiB": 8,
    "name": "ml.c5.xlarge",
    "vcpuNum": 4
   },
   {
    "_defaultOrder": 23,
    "_isFastLaunch": false,
    "category": "Compute optimized",
    "gpuNum": 0,
    "hideHardwareSpecs": false,
    "memoryGiB": 16,
    "name": "ml.c5.2xlarge",
    "vcpuNum": 8
   },
   {
    "_defaultOrder": 24,
    "_isFastLaunch": false,
    "category": "Compute optimized",
    "gpuNum": 0,
    "hideHardwareSpecs": false,
    "memoryGiB": 32,
    "name": "ml.c5.4xlarge",
    "vcpuNum": 16
   },
   {
    "_defaultOrder": 25,
    "_isFastLaunch": false,
    "category": "Compute optimized",
    "gpuNum": 0,
    "hideHardwareSpecs": false,
    "memoryGiB": 72,
    "name": "ml.c5.9xlarge",
    "vcpuNum": 36
   },
   {
    "_defaultOrder": 26,
    "_isFastLaunch": false,
    "category": "Compute optimized",
    "gpuNum": 0,
    "hideHardwareSpecs": false,
    "memoryGiB": 96,
    "name": "ml.c5.12xlarge",
    "vcpuNum": 48
   },
   {
    "_defaultOrder": 27,
    "_isFastLaunch": false,
    "category": "Compute optimized",
    "gpuNum": 0,
    "hideHardwareSpecs": false,
    "memoryGiB": 144,
    "name": "ml.c5.18xlarge",
    "vcpuNum": 72
   },
   {
    "_defaultOrder": 28,
    "_isFastLaunch": false,
    "category": "Compute optimized",
    "gpuNum": 0,
    "hideHardwareSpecs": false,
    "memoryGiB": 192,
    "name": "ml.c5.24xlarge",
    "vcpuNum": 96
   },
   {
    "_defaultOrder": 29,
    "_isFastLaunch": true,
    "category": "Accelerated computing",
    "gpuNum": 1,
    "hideHardwareSpecs": false,
    "memoryGiB": 16,
    "name": "ml.g4dn.xlarge",
    "vcpuNum": 4
   },
   {
    "_defaultOrder": 30,
    "_isFastLaunch": false,
    "category": "Accelerated computing",
    "gpuNum": 1,
    "hideHardwareSpecs": false,
    "memoryGiB": 32,
    "name": "ml.g4dn.2xlarge",
    "vcpuNum": 8
   },
   {
    "_defaultOrder": 31,
    "_isFastLaunch": false,
    "category": "Accelerated computing",
    "gpuNum": 1,
    "hideHardwareSpecs": false,
    "memoryGiB": 64,
    "name": "ml.g4dn.4xlarge",
    "vcpuNum": 16
   },
   {
    "_defaultOrder": 32,
    "_isFastLaunch": false,
    "category": "Accelerated computing",
    "gpuNum": 1,
    "hideHardwareSpecs": false,
    "memoryGiB": 128,
    "name": "ml.g4dn.8xlarge",
    "vcpuNum": 32
   },
   {
    "_defaultOrder": 33,
    "_isFastLaunch": false,
    "category": "Accelerated computing",
    "gpuNum": 4,
    "hideHardwareSpecs": false,
    "memoryGiB": 192,
    "name": "ml.g4dn.12xlarge",
    "vcpuNum": 48
   },
   {
    "_defaultOrder": 34,
    "_isFastLaunch": false,
    "category": "Accelerated computing",
    "gpuNum": 1,
    "hideHardwareSpecs": false,
    "memoryGiB": 256,
    "name": "ml.g4dn.16xlarge",
    "vcpuNum": 64
   },
   {
    "_defaultOrder": 35,
    "_isFastLaunch": false,
    "category": "Accelerated computing",
    "gpuNum": 1,
    "hideHardwareSpecs": false,
    "memoryGiB": 61,
    "name": "ml.p3.2xlarge",
    "vcpuNum": 8
   },
   {
    "_defaultOrder": 36,
    "_isFastLaunch": false,
    "category": "Accelerated computing",
    "gpuNum": 4,
    "hideHardwareSpecs": false,
    "memoryGiB": 244,
    "name": "ml.p3.8xlarge",
    "vcpuNum": 32
   },
   {
    "_defaultOrder": 37,
    "_isFastLaunch": false,
    "category": "Accelerated computing",
    "gpuNum": 8,
    "hideHardwareSpecs": false,
    "memoryGiB": 488,
    "name": "ml.p3.16xlarge",
    "vcpuNum": 64
   },
   {
    "_defaultOrder": 38,
    "_isFastLaunch": false,
    "category": "Accelerated computing",
    "gpuNum": 8,
    "hideHardwareSpecs": false,
    "memoryGiB": 768,
    "name": "ml.p3dn.24xlarge",
    "vcpuNum": 96
   },
   {
    "_defaultOrder": 39,
    "_isFastLaunch": false,
    "category": "Memory Optimized",
    "gpuNum": 0,
    "hideHardwareSpecs": false,
    "memoryGiB": 16,
    "name": "ml.r5.large",
    "vcpuNum": 2
   },
   {
    "_defaultOrder": 40,
    "_isFastLaunch": false,
    "category": "Memory Optimized",
    "gpuNum": 0,
    "hideHardwareSpecs": false,
    "memoryGiB": 32,
    "name": "ml.r5.xlarge",
    "vcpuNum": 4
   },
   {
    "_defaultOrder": 41,
    "_isFastLaunch": false,
    "category": "Memory Optimized",
    "gpuNum": 0,
    "hideHardwareSpecs": false,
    "memoryGiB": 64,
    "name": "ml.r5.2xlarge",
    "vcpuNum": 8
   },
   {
    "_defaultOrder": 42,
    "_isFastLaunch": false,
    "category": "Memory Optimized",
    "gpuNum": 0,
    "hideHardwareSpecs": false,
    "memoryGiB": 128,
    "name": "ml.r5.4xlarge",
    "vcpuNum": 16
   },
   {
    "_defaultOrder": 43,
    "_isFastLaunch": false,
    "category": "Memory Optimized",
    "gpuNum": 0,
    "hideHardwareSpecs": false,
    "memoryGiB": 256,
    "name": "ml.r5.8xlarge",
    "vcpuNum": 32
   },
   {
    "_defaultOrder": 44,
    "_isFastLaunch": false,
    "category": "Memory Optimized",
    "gpuNum": 0,
    "hideHardwareSpecs": false,
    "memoryGiB": 384,
    "name": "ml.r5.12xlarge",
    "vcpuNum": 48
   },
   {
    "_defaultOrder": 45,
    "_isFastLaunch": false,
    "category": "Memory Optimized",
    "gpuNum": 0,
    "hideHardwareSpecs": false,
    "memoryGiB": 512,
    "name": "ml.r5.16xlarge",
    "vcpuNum": 64
   },
   {
    "_defaultOrder": 46,
    "_isFastLaunch": false,
    "category": "Memory Optimized",
    "gpuNum": 0,
    "hideHardwareSpecs": false,
    "memoryGiB": 768,
    "name": "ml.r5.24xlarge",
    "vcpuNum": 96
   },
   {
    "_defaultOrder": 47,
    "_isFastLaunch": false,
    "category": "Accelerated computing",
    "gpuNum": 1,
    "hideHardwareSpecs": false,
    "memoryGiB": 16,
    "name": "ml.g5.xlarge",
    "vcpuNum": 4
   },
   {
    "_defaultOrder": 48,
    "_isFastLaunch": false,
    "category": "Accelerated computing",
    "gpuNum": 1,
    "hideHardwareSpecs": false,
    "memoryGiB": 32,
    "name": "ml.g5.2xlarge",
    "vcpuNum": 8
   },
   {
    "_defaultOrder": 49,
    "_isFastLaunch": false,
    "category": "Accelerated computing",
    "gpuNum": 1,
    "hideHardwareSpecs": false,
    "memoryGiB": 64,
    "name": "ml.g5.4xlarge",
    "vcpuNum": 16
   },
   {
    "_defaultOrder": 50,
    "_isFastLaunch": false,
    "category": "Accelerated computing",
    "gpuNum": 1,
    "hideHardwareSpecs": false,
    "memoryGiB": 128,
    "name": "ml.g5.8xlarge",
    "vcpuNum": 32
   },
   {
    "_defaultOrder": 51,
    "_isFastLaunch": false,
    "category": "Accelerated computing",
    "gpuNum": 1,
    "hideHardwareSpecs": false,
    "memoryGiB": 256,
    "name": "ml.g5.16xlarge",
    "vcpuNum": 64
   },
   {
    "_defaultOrder": 52,
    "_isFastLaunch": false,
    "category": "Accelerated computing",
    "gpuNum": 4,
    "hideHardwareSpecs": false,
    "memoryGiB": 192,
    "name": "ml.g5.12xlarge",
    "vcpuNum": 48
   },
   {
    "_defaultOrder": 53,
    "_isFastLaunch": false,
    "category": "Accelerated computing",
    "gpuNum": 4,
    "hideHardwareSpecs": false,
    "memoryGiB": 384,
    "name": "ml.g5.24xlarge",
    "vcpuNum": 96
   },
   {
    "_defaultOrder": 54,
    "_isFastLaunch": false,
    "category": "Accelerated computing",
    "gpuNum": 8,
    "hideHardwareSpecs": false,
    "memoryGiB": 768,
    "name": "ml.g5.48xlarge",
    "vcpuNum": 192
   },
   {
    "_defaultOrder": 55,
    "_isFastLaunch": false,
    "category": "Accelerated computing",
    "gpuNum": 8,
    "hideHardwareSpecs": false,
    "memoryGiB": 1152,
    "name": "ml.p4d.24xlarge",
    "vcpuNum": 96
   },
   {
    "_defaultOrder": 56,
    "_isFastLaunch": false,
    "category": "Accelerated computing",
    "gpuNum": 8,
    "hideHardwareSpecs": false,
    "memoryGiB": 1152,
    "name": "ml.p4de.24xlarge",
    "vcpuNum": 96
   },
   {
    "_defaultOrder": 57,
    "_isFastLaunch": false,
    "category": "Accelerated computing",
    "gpuNum": 0,
    "hideHardwareSpecs": false,
    "memoryGiB": 32,
    "name": "ml.trn1.2xlarge",
    "vcpuNum": 8
   },
   {
    "_defaultOrder": 58,
    "_isFastLaunch": false,
    "category": "Accelerated computing",
    "gpuNum": 0,
    "hideHardwareSpecs": false,
    "memoryGiB": 512,
    "name": "ml.trn1.32xlarge",
    "vcpuNum": 128
   },
   {
    "_defaultOrder": 59,
    "_isFastLaunch": false,
    "category": "Accelerated computing",
    "gpuNum": 0,
    "hideHardwareSpecs": false,
    "memoryGiB": 512,
    "name": "ml.trn1n.32xlarge",
    "vcpuNum": 128
   }
  ],
  "instance_type": "ml.m5.large",
  "kernelspec": {
   "display_name": "Python 3 (Data Science 3.0)",
   "language": "python",
   "name": "python3__SAGEMAKER_INTERNAL__arn:aws:sagemaker:us-east-1:081325390199:image/sagemaker-data-science-310-v1"
  },
  "language_info": {
   "codemirror_mode": {
    "name": "ipython",
    "version": 3
   },
   "file_extension": ".py",
   "mimetype": "text/x-python",
   "name": "python",
   "nbconvert_exporter": "python",
   "pygments_lexer": "ipython3",
   "version": "3.10.6"
  }
 },
 "nbformat": 4,
 "nbformat_minor": 5
}
